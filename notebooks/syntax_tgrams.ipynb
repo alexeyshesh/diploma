{
 "metadata": {
  "language_info": {
   "codemirror_mode": {
    "name": "ipython",
    "version": 3
   },
   "file_extension": ".py",
   "mimetype": "text/x-python",
   "name": "python",
   "nbconvert_exporter": "python",
   "pygments_lexer": "ipython3",
   "version": "3.7.3"
  },
  "orig_nbformat": 2,
  "kernelspec": {
   "name": "python373jvsc74a57bd0398dc28c06ad810e77de546bbdfa897a6ee0b83e59a5207339dda01a7843e01d",
   "display_name": "Python 3.7.3 64-bit ('base': conda)"
  }
 },
 "nbformat": 4,
 "nbformat_minor": 2,
 "cells": [
  {
   "source": [
    "# Метод, основанный на структурных триграммах\n",
    "\n",
    "## Загрузка необходимых модулей"
   ],
   "cell_type": "markdown",
   "metadata": {}
  },
  {
   "cell_type": "code",
   "execution_count": null,
   "metadata": {},
   "outputs": [],
   "source": [
    "import re\n",
    "import pandas as pd\n",
    "import pymorphy2\n",
    "import nltk\n",
    "\n",
    "morph = pymorphy2.MorphAnalyzer()"
   ]
  },
  {
   "cell_type": "code",
   "execution_count": 2,
   "metadata": {},
   "outputs": [
    {
     "output_type": "execute_result",
     "data": {
      "text/plain": [
       "['ADJF',\n",
       " 'NOUN',\n",
       " 'ADJF',\n",
       " 'NOUN',\n",
       " 'PREP',\n",
       " 'NOUN',\n",
       " 'VERB',\n",
       " ';',\n",
       " 'NOUN',\n",
       " 'ADJS',\n",
       " 'PREP',\n",
       " 'NPRO',\n",
       " ',',\n",
       " 'CONJ',\n",
       " 'NOUN',\n",
       " 'VERB',\n",
       " 'ADVB',\n",
       " 'NOUN',\n",
       " 'PREP',\n",
       " 'NPRO',\n",
       " '...']"
      ]
     },
     "metadata": {},
     "execution_count": 2
    }
   ],
   "source": [
    "def syntax_encode(text):\n",
    "    \"\"\"Создает из текста список меток частей речи и знаков препинания\"\"\"\n",
    "    text = text.lower()\n",
    "    text = re.findall('\\w+|\\.\\.\\.|\\!\\?|[:\\-,\\.;\\(\\)\\!\\?]', text)\n",
    "    result = []\n",
    "    for token in text:\n",
    "        pos = str(morph.parse(token)[0].tag.POS or morph.parse(token)[0].tag)\n",
    "        if pos == 'PNCT':\n",
    "            result.append(token)\n",
    "            continue \n",
    "        result.append(pos)\n",
    "    return result\n",
    "\n",
    "test_text = \"Один курьер огромное солнце по городу нес; одежда горела на нём, и ночь стала днём рядом с ним...\"\n",
    "syntax_encode(test_text)"
   ]
  },
  {
   "cell_type": "code",
   "execution_count": 3,
   "metadata": {},
   "outputs": [
    {
     "output_type": "execute_result",
     "data": {
      "text/plain": [
       "[('ADJF', 'NOUN', 'ADJF'),\n",
       " ('NOUN', 'ADJF', 'NOUN'),\n",
       " ('ADJF', 'NOUN', 'PREP'),\n",
       " ('NOUN', 'PREP', 'NOUN'),\n",
       " ('PREP', 'NOUN', 'VERB'),\n",
       " ('NOUN', 'VERB', ';'),\n",
       " ('VERB', ';', 'NOUN'),\n",
       " (';', 'NOUN', 'ADJS'),\n",
       " ('NOUN', 'ADJS', 'PREP'),\n",
       " ('ADJS', 'PREP', 'NPRO'),\n",
       " ('PREP', 'NPRO', ','),\n",
       " ('NPRO', ',', 'CONJ'),\n",
       " (',', 'CONJ', 'NOUN'),\n",
       " ('CONJ', 'NOUN', 'VERB'),\n",
       " ('NOUN', 'VERB', 'ADVB'),\n",
       " ('VERB', 'ADVB', 'NOUN'),\n",
       " ('ADVB', 'NOUN', 'PREP'),\n",
       " ('NOUN', 'PREP', 'NPRO'),\n",
       " ('PREP', 'NPRO', '...')]"
      ]
     },
     "metadata": {},
     "execution_count": 3
    }
   ],
   "source": [
    "def tokenize(text):\n",
    "    res = []\n",
    "    for sent in nltk.sent_tokenize(text):\n",
    "        t = syntax_encode(sent)\n",
    "        s = nltk.ngrams(t, 3)\n",
    "        res += s\n",
    "    return res\n",
    "\n",
    "tokenize(test_text)"
   ]
  },
  {
   "cell_type": "code",
   "execution_count": 5,
   "metadata": {},
   "outputs": [],
   "source": [
    "from sklearn.feature_extraction.text import TfidfVectorizer\n",
    "\n",
    "vectorizer = TfidfVectorizer(analyzer='word', tokenizer=tokenize, max_features=1500, min_df=5, max_df=0.7)"
   ]
  },
  {
   "source": [
    "## Загрузка тренировочного и тестового датасета"
   ],
   "cell_type": "markdown",
   "metadata": {}
  },
  {
   "cell_type": "code",
   "execution_count": 6,
   "metadata": {},
   "outputs": [
    {
     "output_type": "stream",
     "name": "stdout",
     "text": [
      "(40, 4)\n(160, 4)\n"
     ]
    }
   ],
   "source": [
    "train_df = pd.read_csv('../datasets/russian_classics/train_4_10_1000.csv')\n",
    "print(train_df.shape)\n",
    "\n",
    "test_df = pd.read_csv('../datasets/russian_classics/test_4_40_600.csv')\n",
    "print(test_df.shape)"
   ]
  },
  {
   "source": [
    "## Предобработка текстов"
   ],
   "cell_type": "markdown",
   "metadata": {}
  },
  {
   "cell_type": "code",
   "execution_count": 7,
   "metadata": {},
   "outputs": [],
   "source": [
    "from tqdm import tqdm\n",
    "\n",
    "train_texts = train_df['Content']\n",
    "test_texts = test_df['Content']"
   ]
  },
  {
   "cell_type": "code",
   "execution_count": 8,
   "metadata": {},
   "outputs": [],
   "source": [
    "train_X, train_y = list(train_texts), [int(a) for a in train_df['Author']]\n",
    "test_X, test_y = list(test_texts), [int(a) for a in test_df['Author']]"
   ]
  },
  {
   "source": [
    "## Построение деревьев решений"
   ],
   "cell_type": "markdown",
   "metadata": {}
  },
  {
   "cell_type": "code",
   "execution_count": 10,
   "metadata": {},
   "outputs": [
    {
     "output_type": "execute_result",
     "data": {
      "text/plain": [
       "RandomForestClassifier(bootstrap=True, ccp_alpha=0.0, class_weight=None,\n",
       "                       criterion='gini', max_depth=None, max_features='auto',\n",
       "                       max_leaf_nodes=None, max_samples=None,\n",
       "                       min_impurity_decrease=0.0, min_impurity_split=None,\n",
       "                       min_samples_leaf=1, min_samples_split=2,\n",
       "                       min_weight_fraction_leaf=0.0, n_estimators=1000,\n",
       "                       n_jobs=None, oob_score=False, random_state=0, verbose=0,\n",
       "                       warm_start=False)"
      ]
     },
     "metadata": {},
     "execution_count": 10
    }
   ],
   "source": [
    "from sklearn.feature_extraction.text import TfidfVectorizer\n",
    "from sklearn.ensemble import RandomForestClassifier\n",
    "\n",
    "all_texts = list(train_texts) + list(test_texts)\n",
    "y = train_y + test_y\n",
    "\n",
    "tfidfconverter = vectorizer\n",
    "X = tfidfconverter.fit_transform(all_texts).toarray()\n",
    "\n",
    "X_train, X_test, y_train, y_test = X[:len(train_y)], X[len(train_y):], train_y, test_y\n",
    "\n",
    "classifier = RandomForestClassifier(n_estimators=1000, random_state=0)\n",
    "classifier.fit(X_train, y_train) "
   ]
  },
  {
   "source": [
    "## Результат"
   ],
   "cell_type": "markdown",
   "metadata": {}
  },
  {
   "cell_type": "code",
   "execution_count": 11,
   "metadata": {},
   "outputs": [],
   "source": [
    "y_pred = classifier.predict(X_test)"
   ]
  },
  {
   "cell_type": "code",
   "execution_count": 12,
   "metadata": {},
   "outputs": [
    {
     "output_type": "stream",
     "name": "stdout",
     "text": [
      "[[23  5  4  8]\n [ 0 40  0  0]\n [ 4 11 25  0]\n [ 2  7  3 28]]\n              precision    recall  f1-score   support\n\n           0       0.79      0.57      0.67        40\n           1       0.63      1.00      0.78        40\n           2       0.78      0.62      0.69        40\n           3       0.78      0.70      0.74        40\n\n    accuracy                           0.73       160\n   macro avg       0.75      0.73      0.72       160\nweighted avg       0.75      0.72      0.72       160\n\n0.725\n"
     ]
    }
   ],
   "source": [
    "from sklearn.metrics import classification_report, confusion_matrix, accuracy_score\n",
    "\n",
    "print(confusion_matrix(y_test,y_pred))\n",
    "print(classification_report(y_test,y_pred))\n",
    "print(accuracy_score(y_test, y_pred))"
   ]
  },
  {
   "source": [
    "## Проверка метода на других датасетах"
   ],
   "cell_type": "markdown",
   "metadata": {}
  },
  {
   "cell_type": "code",
   "execution_count": 13,
   "metadata": {},
   "outputs": [],
   "source": [
    "def test_method(train_datasets: list, test_datasets: list, predict_func):\n",
    "    for d_test in test_datasets:\n",
    "        for d_train in train_datasets:\n",
    "            print(\"Test: {}, train: {}: {}\".format(d_test, d_train, predict_func(d_test, d_train)))"
   ]
  },
  {
   "cell_type": "code",
   "execution_count": 14,
   "metadata": {},
   "outputs": [],
   "source": [
    "def predict(test_dataset, train_dataset):\n",
    "    train_df = pd.read_csv(train_dataset)\n",
    "    test_df = pd.read_csv(test_dataset)\n",
    "    train_texts = train_df['Content']\n",
    "    test_texts = test_df['Content']\n",
    "    train_X, train_y = list(train_texts), [int(a) for a in train_df['Author']]\n",
    "    test_X, test_y = list(test_texts), [int(a) for a in test_df['Author']]\n",
    "    all_texts = list(train_texts) + list(test_texts)\n",
    "    y = train_y + test_y\n",
    "\n",
    "    tfidfconverter = vectorizer\n",
    "    X = tfidfconverter.fit_transform(all_texts).toarray()\n",
    "    X_train, X_test, y_train, y_test = X[:len(train_y)], X[len(train_y):], train_y, test_y\n",
    "\n",
    "    classifier = RandomForestClassifier(n_estimators=1000, random_state=0)\n",
    "    classifier.fit(X_train, y_train) \n",
    "\n",
    "    y_pred = classifier.predict(X_test)\n",
    "    return accuracy_score(y_test, y_pred)"
   ]
  },
  {
   "cell_type": "code",
   "execution_count": 15,
   "metadata": {},
   "outputs": [],
   "source": [
    "train_datasets = [\n",
    "    '../datasets/russian_classics/train_4_5_600.csv',\n",
    "    '../datasets/russian_classics/train_4_10_1000.csv'\n",
    "]\n",
    "\n",
    "test_datasets = [\n",
    "    '../datasets/russian_classics/test_4_40_600.csv'\n",
    "]"
   ]
  },
  {
   "cell_type": "code",
   "execution_count": 16,
   "metadata": {},
   "outputs": [
    {
     "output_type": "stream",
     "name": "stdout",
     "text": [
      "Test: ../datasets/russian_classics/test_4_40_600.csv, train: ../datasets/russian_classics/train_4_5_600.csv: 0.60625\n",
      "Test: ../datasets/russian_classics/test_4_40_600.csv, train: ../datasets/russian_classics/train_4_10_1000.csv: 0.725\n"
     ]
    }
   ],
   "source": [
    "test_method(train_datasets, test_datasets, predict)"
   ]
  },
  {
   "cell_type": "code",
   "execution_count": 17,
   "metadata": {},
   "outputs": [],
   "source": [
    "train_datasets = [\n",
    "    '../datasets/russian_classics/train_23_5_600.csv',\n",
    "    '../datasets/russian_classics/train_23_10_1000.csv'\n",
    "]\n",
    "\n",
    "test_datasets = [\n",
    "    '../datasets/russian_classics/test_23_40_600.csv'\n",
    "]"
   ]
  },
  {
   "cell_type": "code",
   "execution_count": 18,
   "metadata": {},
   "outputs": [
    {
     "output_type": "stream",
     "name": "stdout",
     "text": [
      "Test: ../datasets/russian_classics/test_23_40_600.csv, train: ../datasets/russian_classics/train_23_5_600.csv: 0.31624863685932386\n",
      "Test: ../datasets/russian_classics/test_23_40_600.csv, train: ../datasets/russian_classics/train_23_10_1000.csv: 0.3914940021810251\n"
     ]
    }
   ],
   "source": [
    "test_method(train_datasets, test_datasets, predict)"
   ]
  },
  {
   "cell_type": "code",
   "execution_count": 19,
   "metadata": {},
   "outputs": [],
   "source": [
    "train_datasets = [\n",
    "    '../datasets/russian_classics/train_4_5_600.csv',\n",
    "    '../datasets/russian_classics/train_4_10_1000.csv'\n",
    "]\n",
    "\n",
    "test_datasets = [\n",
    "    '../datasets/russian_classics/test_4_40_1000.csv'\n",
    "]"
   ]
  },
  {
   "cell_type": "code",
   "execution_count": 20,
   "metadata": {},
   "outputs": [
    {
     "output_type": "stream",
     "name": "stdout",
     "text": [
      "Test: ../datasets/russian_classics/test_4_40_1000.csv, train: ../datasets/russian_classics/train_4_5_600.csv: 0.60625\n",
      "Test: ../datasets/russian_classics/test_4_40_1000.csv, train: ../datasets/russian_classics/train_4_10_1000.csv: 0.725\n"
     ]
    }
   ],
   "source": [
    "test_method(train_datasets, test_datasets, predict)"
   ]
  },
  {
   "cell_type": "code",
   "execution_count": 21,
   "metadata": {},
   "outputs": [
    {
     "output_type": "stream",
     "name": "stdout",
     "text": [
      "Test: ../datasets/proza_ru/proza_test.csv, train: ../datasets/proza_ru/proza_train.csv: 0.8695652173913043\n"
     ]
    }
   ],
   "source": [
    "train_datasets = [\n",
    "    '../datasets/proza_ru/proza_train.csv',\n",
    "]\n",
    "\n",
    "test_datasets = [\n",
    "    '../datasets/proza_ru/proza_test.csv'\n",
    "]\n",
    "\n",
    "test_method(train_datasets, test_datasets, predict)"
   ]
  },
  {
   "cell_type": "code",
   "execution_count": null,
   "metadata": {},
   "outputs": [],
   "source": []
  }
 ]
}