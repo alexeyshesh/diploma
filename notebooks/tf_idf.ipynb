{
 "metadata": {
  "language_info": {
   "codemirror_mode": {
    "name": "ipython",
    "version": 3
   },
   "file_extension": ".py",
   "mimetype": "text/x-python",
   "name": "python",
   "nbconvert_exporter": "python",
   "pygments_lexer": "ipython3",
   "version": "3.7.3"
  },
  "orig_nbformat": 2,
  "kernelspec": {
   "name": "python373jvsc74a57bd0398dc28c06ad810e77de546bbdfa897a6ee0b83e59a5207339dda01a7843e01d",
   "display_name": "Python 3.7.3 64-bit ('base': conda)"
  }
 },
 "nbformat": 4,
 "nbformat_minor": 2,
 "cells": [
  {
   "source": [
    "# Метод, основанный на TF-IDF по словам\n",
    "\n",
    "## Загрузка необходимых модулей"
   ],
   "cell_type": "markdown",
   "metadata": {}
  },
  {
   "cell_type": "code",
   "execution_count": null,
   "metadata": {},
   "outputs": [],
   "source": [
    "import re\n",
    "import pandas as pd\n",
    "import pymorphy2\n",
    "\n",
    "morph = pymorphy2.MorphAnalyzer()"
   ]
  },
  {
   "source": [
    "## Загрузка тренировочного и тестового датасета"
   ],
   "cell_type": "markdown",
   "metadata": {}
  },
  {
   "cell_type": "code",
   "execution_count": 95,
   "metadata": {},
   "outputs": [
    {
     "output_type": "stream",
     "name": "stdout",
     "text": [
      "(40, 4)\n",
      "(160, 4)\n"
     ]
    }
   ],
   "source": [
    "train_df = pd.read_csv('../datasets/russian_classics/train_4_10_1000.csv')\n",
    "print(train_df.shape)\n",
    "\n",
    "test_df = pd.read_csv('../datasets/russian_classics/test_4_40_600.csv')\n",
    "print(test_df.shape)"
   ]
  },
  {
   "cell_type": "code",
   "execution_count": 96,
   "metadata": {},
   "outputs": [
    {
     "output_type": "stream",
     "name": "stdout",
     "text": [
      "привет как дело что случиться хотеть быть веселеть не грусть\n"
     ]
    }
   ],
   "source": [
    "def preprocess(text):\n",
    "    \"\"\"Возвращает строку из начальных форм слов\"\"\"\n",
    "    text = text.lower()\n",
    "    words = re.findall('[а-яё]+', text)\n",
    "    return \" \".join([morph.parse(word)[0].normal_form for word in words])\n",
    "\n",
    "print(preprocess(\"Привет, как дела, что случилось? Хочешь быть веселей - не грусти!\"))"
   ]
  },
  {
   "source": [
    "## Предобработка текстов"
   ],
   "cell_type": "markdown",
   "metadata": {}
  },
  {
   "cell_type": "code",
   "execution_count": 97,
   "metadata": {},
   "outputs": [
    {
     "output_type": "stream",
     "name": "stderr",
     "text": [
      "100%|██████████| 40/40 [00:10<00:00,  3.65it/s]\n",
      "100%|██████████| 160/160 [00:24<00:00,  6.48it/s]\n"
     ]
    }
   ],
   "source": [
    "from tqdm import tqdm\n",
    "\n",
    "train_texts = []\n",
    "for text in tqdm(train_df['Content']):\n",
    "    train_texts.append(preprocess(text))\n",
    "\n",
    "test_texts = []\n",
    "for text in tqdm(test_df['Content']):\n",
    "    test_texts.append(preprocess(text))"
   ]
  },
  {
   "cell_type": "code",
   "execution_count": 98,
   "metadata": {},
   "outputs": [],
   "source": [
    "train_X, train_y = train_texts, [int(a) for a in train_df['Author']]\n",
    "test_X, test_y = test_texts, [int(a) for a in test_df['Author']]"
   ]
  },
  {
   "source": [
    "## Векторизация с применением TF-IDF и построение деревьев решений"
   ],
   "cell_type": "markdown",
   "metadata": {}
  },
  {
   "cell_type": "code",
   "execution_count": 106,
   "metadata": {},
   "outputs": [
    {
     "output_type": "execute_result",
     "data": {
      "text/plain": [
       "RandomForestClassifier(bootstrap=True, class_weight=None, criterion='gini',\n",
       "                       max_depth=None, max_features='auto', max_leaf_nodes=None,\n",
       "                       min_impurity_decrease=0.0, min_impurity_split=None,\n",
       "                       min_samples_leaf=1, min_samples_split=2,\n",
       "                       min_weight_fraction_leaf=0.0, n_estimators=1000,\n",
       "                       n_jobs=None, oob_score=False, random_state=0, verbose=0,\n",
       "                       warm_start=False)"
      ]
     },
     "metadata": {},
     "execution_count": 106
    }
   ],
   "source": [
    "from sklearn.feature_extraction.text import TfidfVectorizer\n",
    "from sklearn.ensemble import RandomForestClassifier\n",
    "\n",
    "all_texts = train_texts + test_texts\n",
    "y = train_y + test_y\n",
    "\n",
    "tfidfconverter = TfidfVectorizer(max_features=1500, min_df=5, max_df=0.7)\n",
    "X = tfidfconverter.fit_transform(all_texts).toarray()\n",
    "\n",
    "X_train, X_test, y_train, y_test = X[:len(train_y)], X[len(train_y):], train_y, test_y\n",
    "\n",
    "classifier = RandomForestClassifier(n_estimators=1000, random_state=0)\n",
    "classifier.fit(X_train, y_train) "
   ]
  },
  {
   "source": [
    "## Результат"
   ],
   "cell_type": "markdown",
   "metadata": {}
  },
  {
   "cell_type": "code",
   "execution_count": 108,
   "metadata": {},
   "outputs": [],
   "source": [
    "y_pred = classifier.predict(X_test)"
   ]
  },
  {
   "cell_type": "code",
   "execution_count": 109,
   "metadata": {},
   "outputs": [
    {
     "output_type": "stream",
     "name": "stdout",
     "text": [
      "[[26  9  4  1]\n [ 0 40  0  0]\n [ 0 17 23  0]\n [ 2 22  2 14]]\n              precision    recall  f1-score   support\n\n           0       0.93      0.65      0.76        40\n           1       0.45      1.00      0.62        40\n           2       0.79      0.57      0.67        40\n           3       0.93      0.35      0.51        40\n\n    accuracy                           0.64       160\n   macro avg       0.78      0.64      0.64       160\nweighted avg       0.78      0.64      0.64       160\n\n0.64375\n"
     ]
    }
   ],
   "source": [
    "from sklearn.metrics import classification_report, confusion_matrix, accuracy_score\n",
    "\n",
    "print(confusion_matrix(y_test,y_pred))\n",
    "print(classification_report(y_test,y_pred))\n",
    "print(accuracy_score(y_test, y_pred))"
   ]
  },
  {
   "source": [
    "## Проверка метода на других датасетах"
   ],
   "cell_type": "markdown",
   "metadata": {}
  },
  {
   "cell_type": "code",
   "execution_count": 111,
   "metadata": {},
   "outputs": [],
   "source": [
    "def test_method(train_datasets: list, test_datasets: list, predict_func):\n",
    "    for d_test in test_datasets:\n",
    "        for d_train in train_datasets:\n",
    "            print(\"Test: {}, train: {}: {}\".format(d_test, d_train, predict_func(d_test, d_train)))"
   ]
  },
  {
   "cell_type": "code",
   "execution_count": 115,
   "metadata": {},
   "outputs": [],
   "source": [
    "def predict(test_dataset, train_dataset):\n",
    "    train_df = pd.read_csv(train_dataset)\n",
    "    test_df = pd.read_csv(test_dataset)\n",
    "    train_texts = []\n",
    "    for text in tqdm(train_df['Content']):\n",
    "        train_texts.append(preprocess(text))\n",
    "    test_texts = []\n",
    "    for text in tqdm(test_df['Content']):\n",
    "        test_texts.append(preprocess(text))\n",
    "    \n",
    "    train_X, train_y = train_texts, [int(a) for a in train_df['Author']]\n",
    "    test_X, test_y = test_texts, [int(a) for a in test_df['Author']]\n",
    "    all_texts = train_texts + test_texts\n",
    "    y = train_y + test_y\n",
    "\n",
    "    tfidfconverter = TfidfVectorizer(max_features=1500, min_df=5, max_df=0.7)\n",
    "    X = tfidfconverter.fit_transform(all_texts).toarray()\n",
    "    X_train, X_test, y_train, y_test = X[:len(train_y)], X[len(train_y):], train_y, test_y\n",
    "\n",
    "    classifier = RandomForestClassifier(n_estimators=1000, random_state=0)\n",
    "    classifier.fit(X_train, y_train) \n",
    "\n",
    "    y_pred = classifier.predict(X_test)\n",
    "    return accuracy_score(y_test, y_pred)"
   ]
  },
  {
   "cell_type": "code",
   "execution_count": 116,
   "metadata": {},
   "outputs": [],
   "source": [
    "train_datasets = [\n",
    "    '../datasets/russian_classics/train_4_5_600.csv',\n",
    "    '../datasets/russian_classics/train_4_10_1000.csv'\n",
    "]\n",
    "\n",
    "test_datasets = [\n",
    "    '../datasets/russian_classics/test_4_40_600.csv'\n",
    "]"
   ]
  },
  {
   "cell_type": "code",
   "execution_count": 117,
   "metadata": {},
   "outputs": [
    {
     "output_type": "stream",
     "name": "stderr",
     "text": [
      "100%|██████████| 20/20 [00:07<00:00,  2.52it/s]\n",
      "100%|██████████| 160/160 [00:45<00:00,  3.49it/s]\n",
      "  0%|          | 0/40 [00:00<?, ?it/s]Test: ../datasets/russian_classics/test_4_40_600.csv, train: ../datasets/russian_classics/train_4_5_600.csv: 0.5625\n",
      "100%|██████████| 40/40 [00:15<00:00,  2.64it/s]\n",
      "100%|██████████| 160/160 [00:46<00:00,  3.41it/s]\n",
      "Test: ../datasets/russian_classics/test_4_40_600.csv, train: ../datasets/russian_classics/train_4_10_1000.csv: 0.64375\n"
     ]
    }
   ],
   "source": [
    "test_method(train_datasets, test_datasets, predict)"
   ]
  },
  {
   "cell_type": "code",
   "execution_count": 118,
   "metadata": {},
   "outputs": [],
   "source": [
    "train_datasets = [\n",
    "    '../datasets/russian_classics/train_23_5_600.csv',\n",
    "    '../datasets/russian_classics/train_23_10_1000.csv'\n",
    "]\n",
    "\n",
    "test_datasets = [\n",
    "    '../datasets/russian_classics/test_23_40_600.csv'\n",
    "]"
   ]
  },
  {
   "cell_type": "code",
   "execution_count": 119,
   "metadata": {},
   "outputs": [
    {
     "output_type": "stream",
     "name": "stderr",
     "text": [
      "100%|██████████| 115/115 [00:50<00:00,  2.28it/s]\n",
      "100%|██████████| 917/917 [05:52<00:00,  2.60it/s]\n",
      "Test: ../datasets/russian_classics/test_23_40_600.csv, train: ../datasets/russian_classics/train_23_5_600.csv: 0.3249727371864776\n",
      "100%|██████████| 230/230 [01:26<00:00,  2.65it/s]\n",
      "100%|██████████| 917/917 [03:38<00:00,  4.21it/s]\n",
      "Test: ../datasets/russian_classics/test_23_40_600.csv, train: ../datasets/russian_classics/train_23_10_1000.csv: 0.46892039258451473\n"
     ]
    }
   ],
   "source": [
    "test_method(train_datasets, test_datasets, predict)"
   ]
  },
  {
   "cell_type": "code",
   "execution_count": 124,
   "metadata": {},
   "outputs": [],
   "source": [
    "train_datasets = [\n",
    "    '../datasets/russian_classics/train_4_5_600.csv',\n",
    "    '../datasets/russian_classics/train_4_10_1000.csv'\n",
    "]\n",
    "\n",
    "test_datasets = [\n",
    "    '../datasets/russian_classics/test_4_40_1000.csv'\n",
    "]"
   ]
  },
  {
   "cell_type": "code",
   "execution_count": 125,
   "metadata": {},
   "outputs": [
    {
     "output_type": "stream",
     "name": "stderr",
     "text": [
      "100%|██████████| 20/20 [00:05<00:00,  3.60it/s]\n",
      "100%|██████████| 160/160 [00:40<00:00,  3.93it/s]\n",
      "  0%|          | 0/40 [00:00<?, ?it/s]Test: ../datasets/russian_classics/test_4_40_1000.csv, train: ../datasets/russian_classics/train_4_5_600.csv: 0.5625\n",
      "100%|██████████| 40/40 [00:17<00:00,  2.25it/s]\n",
      "100%|██████████| 160/160 [00:45<00:00,  3.50it/s]\n",
      "Test: ../datasets/russian_classics/test_4_40_1000.csv, train: ../datasets/russian_classics/train_4_10_1000.csv: 0.64375\n"
     ]
    }
   ],
   "source": [
    "test_method(train_datasets, test_datasets, predict)"
   ]
  },
  {
   "cell_type": "code",
   "execution_count": 126,
   "metadata": {},
   "outputs": [
    {
     "output_type": "stream",
     "name": "stderr",
     "text": [
      "100%|██████████| 933/933 [10:08<00:00,  1.53it/s]\n",
      "100%|██████████| 253/253 [02:42<00:00,  1.56it/s]\n",
      "Test: ../datasets/proza_ru/proza_test.csv, train: ../datasets/proza_ru/proza_train.csv: 0.9011857707509882\n"
     ]
    }
   ],
   "source": [
    "train_datasets = [\n",
    "    '../datasets/proza_ru/proza_train.csv',\n",
    "]\n",
    "\n",
    "test_datasets = [\n",
    "    '../datasets/proza_ru/proza_test.csv'\n",
    "]\n",
    "\n",
    "test_method(train_datasets, test_datasets, predict)"
   ]
  },
  {
   "cell_type": "code",
   "execution_count": null,
   "metadata": {},
   "outputs": [],
   "source": []
  }
 ]
}