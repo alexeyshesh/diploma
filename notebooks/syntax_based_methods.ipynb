{
 "cells": [
  {
   "cell_type": "markdown",
   "id": "3bedfba4-f48a-46b0-aa11-fe4346c073bf",
   "metadata": {},
   "source": [
    "## Функции для получения верхнеуровневой структуры предложения"
   ]
  },
  {
   "cell_type": "markdown",
   "id": "7dcc524e-206a-4a9a-b776-463d9eb32dc8",
   "metadata": {},
   "source": [
    "Коды:\n",
    "- t – текст\n",
    "- R – текст, содержащий корень\n",
    "- p – причастный оборот\n",
    "- P – деепричастный оборот"
   ]
  },
  {
   "cell_type": "code",
   "execution_count": 1,
   "id": "0eae3aee-10f2-41b3-97ee-c6d2457a46f5",
   "metadata": {},
   "outputs": [
    {
     "name": "stdout",
     "output_type": "stream",
     "text": [
      "Already downloaded a model for the 'ru' language\n"
     ]
    }
   ],
   "source": [
    "from src.deptree import build_high_level_structure"
   ]
  },
  {
   "cell_type": "code",
   "execution_count": 2,
   "id": "d75483e7-5af9-4de6-8897-8e5149b2702d",
   "metadata": {},
   "outputs": [],
   "source": [
    "text = 'Мы, радующиеся неожиданной передышке, побежали к речке.'"
   ]
  },
  {
   "cell_type": "code",
   "execution_count": 3,
   "id": "f3fcc354-ad09-471e-b83c-55665cd28021",
   "metadata": {},
   "outputs": [
    {
     "data": {
      "text/plain": [
       "['t', 'p', 'R']"
      ]
     },
     "execution_count": 3,
     "metadata": {},
     "output_type": "execute_result"
    }
   ],
   "source": [
    "build_high_level_structure(text)"
   ]
  },
  {
   "cell_type": "markdown",
   "id": "cf073696-f45d-4e5e-b704-17f253d46842",
   "metadata": {},
   "source": [
    "Разбор происходит правильно не всегда"
   ]
  },
  {
   "cell_type": "code",
   "execution_count": 4,
   "id": "72e9dc3f-035d-489f-af6c-5f2d2a29282e",
   "metadata": {},
   "outputs": [
    {
     "data": {
      "text/plain": [
       "['P', 'R']"
      ]
     },
     "execution_count": 4,
     "metadata": {},
     "output_type": "execute_result"
    }
   ],
   "source": [
    "build_high_level_structure('Рассерженная на Алексея, мать молчала весь вечер.')"
   ]
  },
  {
   "cell_type": "code",
   "execution_count": 5,
   "id": "2726bd8d-59d3-43f0-b776-cff74f5f998f",
   "metadata": {},
   "outputs": [],
   "source": [
    "from src.deptree import get_sentence_hash"
   ]
  },
  {
   "cell_type": "code",
   "execution_count": 6,
   "id": "c1802980-23fd-4857-b141-a0ceb5a88338",
   "metadata": {},
   "outputs": [],
   "source": [
    "text = 'Услышав стук колес подъезжающей телеги, дедушка Евсей открыл ворота настежь.'"
   ]
  },
  {
   "cell_type": "code",
   "execution_count": 7,
   "id": "acae76a2-6d34-4602-8f74-b2c2ed186ebe",
   "metadata": {},
   "outputs": [
    {
     "data": {
      "text/plain": [
       "'PR'"
      ]
     },
     "execution_count": 7,
     "metadata": {},
     "output_type": "execute_result"
    }
   ],
   "source": [
    "get_sentence_hash(text)"
   ]
  },
  {
   "cell_type": "markdown",
   "id": "9675d514-0254-4125-b66c-22ce87c34ad7",
   "metadata": {},
   "source": [
    "## Кодирование термов их положением в дереве зависимостей"
   ]
  },
  {
   "cell_type": "code",
   "execution_count": 8,
   "id": "adb0d373-cef4-4aa2-9da8-fbbf4ced4c4b",
   "metadata": {},
   "outputs": [],
   "source": [
    "from src.deptree import syntax_encode"
   ]
  },
  {
   "cell_type": "code",
   "execution_count": 9,
   "id": "8bd8ee6d-28e1-4947-bbc6-2f066e1356d9",
   "metadata": {},
   "outputs": [],
   "source": [
    "text = 'Я всегда мечтал стать моряком.'"
   ]
  },
  {
   "cell_type": "code",
   "execution_count": 10,
   "id": "efdebf05-bd27-4a27-8c3f-7a3ffe476640",
   "metadata": {},
   "outputs": [
    {
     "data": {
      "text/plain": [
       "['ROOT>nsubj',\n",
       " 'ROOT>advmod',\n",
       " 'ROOT',\n",
       " 'ROOT>xcomp',\n",
       " 'ROOT>xcomp>obl',\n",
       " 'ROOT>punct']"
      ]
     },
     "execution_count": 10,
     "metadata": {},
     "output_type": "execute_result"
    }
   ],
   "source": [
    "syntax_encode(text)"
   ]
  },
  {
   "cell_type": "markdown",
   "id": "1843f4fa-2e08-4953-bbe9-d3c801c66794",
   "metadata": {},
   "source": [
    "## Загрузка данных"
   ]
  },
  {
   "cell_type": "code",
   "execution_count": 11,
   "id": "1dabf028-f85a-4203-acf5-5c11087a5c05",
   "metadata": {},
   "outputs": [],
   "source": [
    "from src.datasets.csv_dataset import CSVDataset\n",
    "\n",
    "russian_classics_train = CSVDataset('./data/russian_classics/train_4_10_1000.csv')\n",
    "russian_classics_test = CSVDataset('./data/russian_classics/test_4_40_600.csv')\n",
    "\n",
    "proza_ru_train = CSVDataset('./data/proza_ru/proza_train.csv')\n",
    "proza_ru_test = CSVDataset('./data/proza_ru/proza_test.csv')"
   ]
  },
  {
   "cell_type": "markdown",
   "id": "5221fd51-e9c2-4a37-8979-77d177388c41",
   "metadata": {},
   "source": [
    "## Вероятностная модель"
   ]
  },
  {
   "cell_type": "code",
   "execution_count": 14,
   "id": "7bf83896-71bf-43c3-8a39-629f3e5714b6",
   "metadata": {},
   "outputs": [],
   "source": [
    "from src.models.prob_model import ProbModel"
   ]
  },
  {
   "cell_type": "code",
   "execution_count": 14,
   "id": "ffdb29e1-764e-4539-83f0-85732e0637bc",
   "metadata": {},
   "outputs": [
    {
     "name": "stderr",
     "output_type": "stream",
     "text": [
      "100%|█████████████████████████████████████████████████████████████████████████████████████████████████████████████████████████████████████████████████████████████████| 20/20 [00:06<00:00,  2.98it/s]\n",
      "Accuracy: 0.47: 100%|███████████████████████████████████████████████████████████████████████████████████████████████████████████████████████████████████████████████| 160/160 [03:28<00:00,  1.30s/it]"
     ]
    },
    {
     "name": "stdout",
     "output_type": "stream",
     "text": [
      "\n",
      "\u001b[1mCorrect / Wrong:\u001b[0m 76 / 84\n",
      "\u001b[1mAccuracy:\u001b[0m 0.475\n",
      "\n",
      "\n",
      " \u001b[1m \u001b[1m \u001b[1m \u001b[1m \u001b[1m \u001b[1m \u001b[1m \u001b[1m \u001b[1mАндреев Бианки Булгаков Бунин\u001b[0m\n",
      "\n",
      "\u001b[1m Андреев\u001b[0m \u001b[1m\u001b[32m     26\u001b[0m      2\u001b[0m        4\u001b[0m     8\u001b[0m \n",
      "\u001b[1m  Бианки\u001b[0m       0\u001b[0m \u001b[1m\u001b[32m    34\u001b[0m        0\u001b[0m     6\u001b[0m \n",
      "\u001b[1mБулгаков\u001b[0m       5\u001b[0m \u001b[1m\u001b[31m    16\u001b[0m        7\u001b[0m    12\u001b[0m \n",
      "\u001b[1m   Бунин\u001b[0m      12\u001b[0m      4\u001b[0m \u001b[1m\u001b[31m      15\u001b[0m     9\u001b[0m \n",
      "\n",
      "\n",
      "\n",
      "              precision    recall  f1-score   support\n",
      "\n",
      "     Андреев       0.60      0.65      0.63        40\n",
      "      Бианки       0.61      0.85      0.71        40\n",
      "    Булгаков       0.27      0.17      0.21        40\n",
      "       Бунин       0.26      0.23      0.24        40\n",
      "\n",
      "    accuracy                           0.48       160\n",
      "   macro avg       0.43      0.48      0.45       160\n",
      "weighted avg       0.43      0.47      0.45       160\n",
      "\n"
     ]
    },
    {
     "name": "stderr",
     "output_type": "stream",
     "text": [
      "\n"
     ]
    }
   ],
   "source": [
    "model = ProbModel()\n",
    "\n",
    "model.train(russian_classics_train)\n",
    "model.evaluate(russian_classics_test)"
   ]
  },
  {
   "cell_type": "code",
   "execution_count": 15,
   "id": "f0005f0e-5ce3-4acf-90a5-179b28328f24",
   "metadata": {},
   "outputs": [
    {
     "name": "stderr",
     "output_type": "stream",
     "text": [
      "100%|███████████████████████████████████████████████████████████████████████████████████████████████████████████████████████████████████████████████████████████████| 933/933 [12:39<00:00,  1.23it/s]\n",
      "Accuracy: 0.53: 100%|███████████████████████████████████████████████████████████████████████████████████████████████████████████████████████████████████████████████| 253/253 [20:07<00:00,  4.77s/it]"
     ]
    },
    {
     "name": "stdout",
     "output_type": "stream",
     "text": [
      "\n",
      "\u001b[1mCorrect / Wrong:\u001b[0m 133 / 120\n",
      "\u001b[1mAccuracy:\u001b[0m 0.525691699604743\n",
      "\n",
      "\n",
      " \u001b[1m \u001b[1m \u001b[1m \u001b[1m \u001b[1m \u001b[1m \u001b[1m \u001b[1m \u001b[1m \u001b[1m \u001b[1m \u001b[1mSolveig alexander49 avmironoff tchsemsha tlev66 vbrtybyf\u001b[0m\n",
      "\n",
      "\u001b[1m    Solveig\u001b[0m \u001b[1m\u001b[32m     18\u001b[0m           0\u001b[0m          0\u001b[0m         0\u001b[0m      0\u001b[0m        0\u001b[0m \n",
      "\u001b[1malexander49\u001b[0m       0\u001b[0m \u001b[1m\u001b[32m         49\u001b[0m          2\u001b[0m         0\u001b[0m      1\u001b[0m        0\u001b[0m \n",
      "\u001b[1m avmironoff\u001b[0m      10\u001b[0m          19\u001b[0m \u001b[1m\u001b[32m        23\u001b[0m         3\u001b[0m      5\u001b[0m       14\u001b[0m \n",
      "\u001b[1m  tchsemsha\u001b[0m       2\u001b[0m           3\u001b[0m          2\u001b[0m \u001b[1m\u001b[32m        7\u001b[0m      5\u001b[0m        1\u001b[0m \n",
      "\u001b[1m     tlev66\u001b[0m       4\u001b[0m          11\u001b[0m         11\u001b[0m         2\u001b[0m \u001b[1m\u001b[32m    21\u001b[0m        7\u001b[0m \n",
      "\u001b[1m   vbrtybyf\u001b[0m       1\u001b[0m           7\u001b[0m          7\u001b[0m         1\u001b[0m      2\u001b[0m \u001b[1m\u001b[32m      15\u001b[0m \n",
      "\n",
      "\n",
      "\n",
      "              precision    recall  f1-score   support\n",
      "\n",
      "     Solveig       0.51      1.00      0.68        18\n",
      " alexander49       0.55      0.94      0.70        52\n",
      "  avmironoff       0.51      0.31      0.39        74\n",
      "   tchsemsha       0.54      0.35      0.42        20\n",
      "      tlev66       0.62      0.38      0.47        56\n",
      "    vbrtybyf       0.41      0.45      0.43        33\n",
      "\n",
      "    accuracy                           0.53       253\n",
      "   macro avg       0.52      0.57      0.51       253\n",
      "weighted avg       0.53      0.53      0.50       253\n",
      "\n"
     ]
    },
    {
     "name": "stderr",
     "output_type": "stream",
     "text": [
      "\n"
     ]
    }
   ],
   "source": [
    "model = ProbModel()\n",
    "\n",
    "model.train(proza_ru_train)\n",
    "model.evaluate(proza_ru_test)"
   ]
  },
  {
   "cell_type": "markdown",
   "id": "7181c979-24e9-4770-a426-dacc3d66323f",
   "metadata": {},
   "source": [
    "## Вероятностная модель глубины 2"
   ]
  },
  {
   "cell_type": "code",
   "execution_count": 3,
   "id": "36d1a851-c718-4e23-b4a1-f90c688ef602",
   "metadata": {},
   "outputs": [],
   "source": [
    "from src.models.deep_prob_model import DeepProbModel"
   ]
  },
  {
   "cell_type": "code",
   "execution_count": 4,
   "id": "b9e31372-4975-4b48-b5ca-b642a05071fa",
   "metadata": {},
   "outputs": [
    {
     "name": "stderr",
     "output_type": "stream",
     "text": [
      "100%|█████████████████████████████████████████████████████████████████████████████████████████████████████████████████████████████████████████████████████████████████| 20/20 [00:07<00:00,  2.82it/s]\n",
      "Accuracy: 0.45: 100%|███████████████████████████████████████████████████████████████████████████████████████████████████████████████████████████████████████████████| 160/160 [03:41<00:00,  1.38s/it]"
     ]
    },
    {
     "name": "stdout",
     "output_type": "stream",
     "text": [
      "\n",
      "\u001b[1mCorrect / Wrong:\u001b[0m 72 / 88\n",
      "\u001b[1mAccuracy:\u001b[0m 0.45\n",
      "\n",
      "\n",
      " \u001b[1m \u001b[1m \u001b[1m \u001b[1m \u001b[1m \u001b[1m \u001b[1m \u001b[1m \u001b[1mАндреев Бианки Булгаков Бунин\u001b[0m\n",
      "\n",
      "\u001b[1m Андреев\u001b[0m \u001b[1m\u001b[32m     28\u001b[0m      0\u001b[0m        0\u001b[0m    12\u001b[0m \n",
      "\u001b[1m  Бианки\u001b[0m       0\u001b[0m \u001b[1m\u001b[32m    25\u001b[0m        0\u001b[0m    15\u001b[0m \n",
      "\u001b[1mБулгаков\u001b[0m       4\u001b[0m      8\u001b[0m        7\u001b[0m \u001b[1m\u001b[31m   21\u001b[0m \n",
      "\u001b[1m   Бунин\u001b[0m \u001b[1m\u001b[31m     13\u001b[0m      3\u001b[0m       12\u001b[0m    12\u001b[0m \n",
      "\n",
      "\n",
      "\n",
      "              precision    recall  f1-score   support\n",
      "\n",
      "     Андреев       0.62      0.70      0.66        40\n",
      "      Бианки       0.69      0.62      0.66        40\n",
      "    Булгаков       0.37      0.17      0.24        40\n",
      "       Бунин       0.20      0.30      0.24        40\n",
      "\n",
      "    accuracy                           0.45       160\n",
      "   macro avg       0.47      0.45      0.45       160\n",
      "weighted avg       0.47      0.45      0.45       160\n",
      "\n"
     ]
    },
    {
     "name": "stderr",
     "output_type": "stream",
     "text": [
      "\n"
     ]
    }
   ],
   "source": [
    "model = DeepProbModel()\n",
    "\n",
    "model.train(russian_classics_train)\n",
    "model.evaluate(russian_classics_test)"
   ]
  },
  {
   "cell_type": "code",
   "execution_count": 5,
   "id": "a8d06421-f8ea-4c56-8e98-c83dea02db76",
   "metadata": {},
   "outputs": [
    {
     "name": "stderr",
     "output_type": "stream",
     "text": [
      "100%|███████████████████████████████████████████████████████████████████████████████████████████████████████████████████████████████████████████████████████████████| 933/933 [13:09<00:00,  1.18it/s]\n",
      "Accuracy: 0.54: 100%|███████████████████████████████████████████████████████████████████████████████████████████████████████████████████████████████████████████████| 253/253 [20:03<00:00,  4.76s/it]"
     ]
    },
    {
     "name": "stdout",
     "output_type": "stream",
     "text": [
      "\n",
      "\u001b[1mCorrect / Wrong:\u001b[0m 137 / 116\n",
      "\u001b[1mAccuracy:\u001b[0m 0.541501976284585\n",
      "\n",
      "\n",
      " \u001b[1m \u001b[1m \u001b[1m \u001b[1m \u001b[1m \u001b[1m \u001b[1m \u001b[1m \u001b[1m \u001b[1m \u001b[1m \u001b[1mSolveig alexander49 avmironoff tchsemsha tlev66 vbrtybyf\u001b[0m\n",
      "\n",
      "\u001b[1m    Solveig\u001b[0m \u001b[1m\u001b[32m     18\u001b[0m           0\u001b[0m          0\u001b[0m         0\u001b[0m      0\u001b[0m        0\u001b[0m \n",
      "\u001b[1malexander49\u001b[0m       0\u001b[0m \u001b[1m\u001b[32m         47\u001b[0m          2\u001b[0m         2\u001b[0m      1\u001b[0m        0\u001b[0m \n",
      "\u001b[1m avmironoff\u001b[0m      16\u001b[0m          16\u001b[0m \u001b[1m\u001b[32m        27\u001b[0m         2\u001b[0m     10\u001b[0m        3\u001b[0m \n",
      "\u001b[1m  tchsemsha\u001b[0m       4\u001b[0m           4\u001b[0m          3\u001b[0m         4\u001b[0m \u001b[1m\u001b[31m     5\u001b[0m        0\u001b[0m \n",
      "\u001b[1m     tlev66\u001b[0m       6\u001b[0m           9\u001b[0m         13\u001b[0m         3\u001b[0m \u001b[1m\u001b[32m    24\u001b[0m        1\u001b[0m \n",
      "\u001b[1m   vbrtybyf\u001b[0m       1\u001b[0m           9\u001b[0m          5\u001b[0m         0\u001b[0m      1\u001b[0m \u001b[1m\u001b[32m      17\u001b[0m \n",
      "\n",
      "\n",
      "\n",
      "              precision    recall  f1-score   support\n",
      "\n",
      "     Solveig       0.40      1.00      0.57        18\n",
      " alexander49       0.55      0.90      0.69        52\n",
      "  avmironoff       0.54      0.36      0.44        74\n",
      "   tchsemsha       0.36      0.20      0.26        20\n",
      "      tlev66       0.59      0.43      0.49        56\n",
      "    vbrtybyf       0.81      0.52      0.63        33\n",
      "\n",
      "    accuracy                           0.54       253\n",
      "   macro avg       0.54      0.57      0.51       253\n",
      "weighted avg       0.56      0.54      0.52       253\n",
      "\n"
     ]
    },
    {
     "name": "stderr",
     "output_type": "stream",
     "text": [
      "\n"
     ]
    }
   ],
   "source": [
    "model = DeepProbModel()\n",
    "\n",
    "model.train(proza_ru_train)\n",
    "model.evaluate(proza_ru_test)"
   ]
  },
  {
   "cell_type": "markdown",
   "id": "56c8b5e9-1ae1-4ce3-a9f5-f0fafbac8221",
   "metadata": {},
   "source": [
    "## Векторизация текстов по хэшам"
   ]
  },
  {
   "cell_type": "code",
   "execution_count": 2,
   "id": "25a71974-2cda-489d-84f0-c31712527a5d",
   "metadata": {},
   "outputs": [
    {
     "name": "stdout",
     "output_type": "stream",
     "text": [
      "Already downloaded a model for the 'ru' language\n"
     ]
    }
   ],
   "source": [
    "from sklearn.feature_extraction.text import TfidfVectorizer\n",
    "from sklearn.ensemble import RandomForestClassifier\n",
    "\n",
    "from src.models.structure_model import StructureModel\n",
    "from src.models.vectorizers import TrigramTfIdfVectorizer, BigramTfIdfVectorizer, WordTrigramTfIdfVectorizer"
   ]
  },
  {
   "cell_type": "code",
   "execution_count": 10,
   "id": "07370bcb-9f50-448f-9af1-5af1a980a638",
   "metadata": {},
   "outputs": [
    {
     "name": "stdout",
     "output_type": "stream",
     "text": [
      "\n",
      "[[18 17  2  3]\n",
      " [ 3 31  1  5]\n",
      " [ 6 18  8  8]\n",
      " [ 4 10 14 12]]\n",
      "\n",
      "              precision    recall  f1-score   support\n",
      "\n",
      "     Андреев       0.58      0.45      0.51        40\n",
      "      Бианки       0.41      0.78      0.53        40\n",
      "    Булгаков       0.32      0.20      0.25        40\n",
      "       Бунин       0.43      0.30      0.35        40\n",
      "\n",
      "    accuracy                           0.43       160\n",
      "   macro avg       0.43      0.43      0.41       160\n",
      "weighted avg       0.43      0.43      0.41       160\n",
      "\n",
      "\n",
      "F1-score: 0.41015500869156274\n"
     ]
    }
   ],
   "source": [
    "model = StructureModel(\n",
    "    RandomForestClassifier(n_jobs=14),\n",
    "    TfidfVectorizer(),\n",
    ")\n",
    "\n",
    "model.train(russian_classics_train)\n",
    "model.evaluate(russian_classics_test)"
   ]
  },
  {
   "cell_type": "code",
   "execution_count": 11,
   "id": "accb3011-819a-4997-a864-ea38c848fbc5",
   "metadata": {},
   "outputs": [
    {
     "name": "stdout",
     "output_type": "stream",
     "text": [
      "\n",
      "[[ 8  0  1  0  9  0]\n",
      " [ 0 29  5  1 15  2]\n",
      " [ 1  5 48  2 16  2]\n",
      " [ 0  4  5  0 11  0]\n",
      " [ 5 14 12  0 25  0]\n",
      " [ 1  1 14  1  4 12]]\n",
      "\n",
      "              precision    recall  f1-score   support\n",
      "\n",
      "     Solveig       0.53      0.44      0.48        18\n",
      " alexander49       0.55      0.56      0.55        52\n",
      "  avmironoff       0.56      0.65      0.60        74\n",
      "   tchsemsha       0.00      0.00      0.00        20\n",
      "      tlev66       0.31      0.45      0.37        56\n",
      "    vbrtybyf       0.75      0.36      0.49        33\n",
      "\n",
      "    accuracy                           0.48       253\n",
      "   macro avg       0.45      0.41      0.42       253\n",
      "weighted avg       0.48      0.48      0.47       253\n",
      "\n",
      "\n",
      "F1-score: 0.41640766655432904\n"
     ]
    }
   ],
   "source": [
    "model = StructureModel(\n",
    "    RandomForestClassifier(n_jobs=14),\n",
    "    TfidfVectorizer(),\n",
    ")\n",
    "\n",
    "model.train(proza_ru_train)\n",
    "model.evaluate(proza_ru_test)"
   ]
  },
  {
   "cell_type": "markdown",
   "id": "83bcc503-60e1-4624-8d6f-fe9fe727b54c",
   "metadata": {},
   "source": [
    "## TF.IDF + кодирование термов"
   ]
  },
  {
   "cell_type": "code",
   "execution_count": 3,
   "id": "ffed5767-43f7-4515-aaa4-7ce2fa504018",
   "metadata": {},
   "outputs": [],
   "source": [
    "from src.models.vector_model import SKVectorModel\n",
    "\n",
    "from src.deptree import syntax_preprocessor"
   ]
  },
  {
   "cell_type": "code",
   "execution_count": 4,
   "id": "597b1a3e-4914-4ce6-bb97-54d5704f1751",
   "metadata": {},
   "outputs": [
    {
     "name": "stdout",
     "output_type": "stream",
     "text": [
      "\n",
      "[[34  2  2  2]\n",
      " [ 0 24  5 11]\n",
      " [ 3  6 21 10]\n",
      " [ 6  6  9 19]]\n",
      "\n",
      "              precision    recall  f1-score   support\n",
      "\n",
      "     Андреев       0.79      0.85      0.82        40\n",
      "      Бианки       0.63      0.60      0.62        40\n",
      "    Булгаков       0.57      0.53      0.55        40\n",
      "       Бунин       0.45      0.47      0.46        40\n",
      "\n",
      "    accuracy                           0.61       160\n",
      "   macro avg       0.61      0.61      0.61       160\n",
      "weighted avg       0.61      0.61      0.61       160\n",
      "\n",
      "\n",
      "F1-score: 0.6108827258548093\n"
     ]
    }
   ],
   "source": [
    "model = SKVectorModel(\n",
    "    RandomForestClassifier(n_estimators=1000, n_jobs=14),\n",
    "    TfidfVectorizer(),\n",
    "    syntax_preprocessor,\n",
    ")\n",
    "\n",
    "model.train(russian_classics_train)\n",
    "model.evaluate(russian_classics_test)"
   ]
  },
  {
   "cell_type": "code",
   "execution_count": 5,
   "id": "5ab34873-7585-4004-b37e-e7bef407e6c6",
   "metadata": {},
   "outputs": [
    {
     "name": "stdout",
     "output_type": "stream",
     "text": [
      "\n",
      "[[15  2  0  0  1  0]\n",
      " [ 1 49  2  0  0  0]\n",
      " [ 0  0 63  0  5  6]\n",
      " [ 0  2  2  5 11  0]\n",
      " [ 1  2  4  0 48  1]\n",
      " [ 0  0  5  0  3 25]]\n",
      "\n",
      "              precision    recall  f1-score   support\n",
      "\n",
      "     Solveig       0.88      0.83      0.86        18\n",
      " alexander49       0.89      0.94      0.92        52\n",
      "  avmironoff       0.83      0.85      0.84        74\n",
      "   tchsemsha       1.00      0.25      0.40        20\n",
      "      tlev66       0.71      0.86      0.77        56\n",
      "    vbrtybyf       0.78      0.76      0.77        33\n",
      "\n",
      "    accuracy                           0.81       253\n",
      "   macro avg       0.85      0.75      0.76       253\n",
      "weighted avg       0.83      0.81      0.80       253\n",
      "\n",
      "\n",
      "F1-score: 0.7594091708713354\n"
     ]
    }
   ],
   "source": [
    "model = SKVectorModel(\n",
    "    RandomForestClassifier(n_estimators=1000, n_jobs=14),\n",
    "    TfidfVectorizer(),\n",
    "    syntax_preprocessor,\n",
    ")\n",
    "\n",
    "model.train(proza_ru_train)\n",
    "model.evaluate(proza_ru_test)"
   ]
  },
  {
   "cell_type": "markdown",
   "id": "8c8391b1-4cb5-4ebb-a51c-c7a498bb4a6c",
   "metadata": {},
   "source": [
    "## Триграммы по верхнеуровлевой структуре"
   ]
  },
  {
   "cell_type": "code",
   "execution_count": 6,
   "id": "4a3b4827-3900-460e-a46a-4b58aa560601",
   "metadata": {},
   "outputs": [
    {
     "name": "stdout",
     "output_type": "stream",
     "text": [
      "\n",
      "[[26  3  4  7]\n",
      " [ 0 35  0  5]\n",
      " [ 6 14  8 12]\n",
      " [ 8  4 15 13]]\n",
      "\n",
      "              precision    recall  f1-score   support\n",
      "\n",
      "     Андреев       0.65      0.65      0.65        40\n",
      "      Бианки       0.62      0.88      0.73        40\n",
      "    Булгаков       0.30      0.20      0.24        40\n",
      "       Бунин       0.35      0.33      0.34        40\n",
      "\n",
      "    accuracy                           0.51       160\n",
      "   macro avg       0.48      0.51      0.49       160\n",
      "weighted avg       0.48      0.51      0.49       160\n",
      "\n",
      "\n",
      "F1-score: 0.4889087436195645\n"
     ]
    }
   ],
   "source": [
    "model = StructureModel(\n",
    "    RandomForestClassifier(n_estimators=1000, n_jobs=14),\n",
    "    TrigramTfIdfVectorizer(),\n",
    ")\n",
    "\n",
    "model.train(russian_classics_train)\n",
    "model.evaluate(russian_classics_test)"
   ]
  },
  {
   "cell_type": "code",
   "execution_count": 7,
   "id": "61eca2cc-be04-45fe-a42b-6b800ee7dab0",
   "metadata": {},
   "outputs": [
    {
     "name": "stdout",
     "output_type": "stream",
     "text": [
      "\n",
      "[[11  2  3  0  2  0]\n",
      " [ 0 42  5  1  4  0]\n",
      " [ 2  7 43  1 16  5]\n",
      " [ 1  5  7  1  6  0]\n",
      " [ 3  9  9  0 35  0]\n",
      " [ 0  0 11  1  3 18]]\n",
      "\n",
      "              precision    recall  f1-score   support\n",
      "\n",
      "     Solveig       0.65      0.61      0.63        18\n",
      " alexander49       0.65      0.81      0.72        52\n",
      "  avmironoff       0.55      0.58      0.57        74\n",
      "   tchsemsha       0.25      0.05      0.08        20\n",
      "      tlev66       0.53      0.62      0.57        56\n",
      "    vbrtybyf       0.78      0.55      0.64        33\n",
      "\n",
      "    accuracy                           0.59       253\n",
      "   macro avg       0.57      0.54      0.54       253\n",
      "weighted avg       0.58      0.59      0.58       253\n",
      "\n",
      "\n",
      "F1-score: 0.535378431366352\n"
     ]
    }
   ],
   "source": [
    "model = StructureModel(\n",
    "    RandomForestClassifier(n_estimators=1000, n_jobs=14),\n",
    "    TrigramTfIdfVectorizer(),\n",
    ")\n",
    "\n",
    "model.train(proza_ru_train)\n",
    "model.evaluate(proza_ru_test)"
   ]
  },
  {
   "cell_type": "code",
   "execution_count": 13,
   "id": "f58eed93-3d12-4b6e-9eef-f7432009dad5",
   "metadata": {},
   "outputs": [
    {
     "name": "stderr",
     "output_type": "stream",
     "text": [
      "100%|███████████████████████████████████████████| 40/40 [00:20<00:00,  1.95it/s]\n",
      "Accuracy: 0.54: 100%|█████████████████████████| 160/160 [03:21<00:00,  1.26s/it]"
     ]
    },
    {
     "name": "stdout",
     "output_type": "stream",
     "text": [
      "\n",
      "\u001b[1mCorrect / Wrong:\u001b[0m 86 / 74\n",
      "\u001b[1mAccuracy:\u001b[0m 0.5375\n",
      "\n",
      "\n",
      " \u001b[1m \u001b[1m \u001b[1m \u001b[1m \u001b[1m \u001b[1m \u001b[1m \u001b[1m \u001b[1mАндреев Бианки Булгаков Бунин\u001b[0m\n",
      "\n",
      "\u001b[1m Андреев\u001b[0m \u001b[1m\u001b[32m     30\u001b[0m      1\u001b[0m        4\u001b[0m     5\u001b[0m \n",
      "\u001b[1m  Бианки\u001b[0m       0\u001b[0m \u001b[1m\u001b[32m    27\u001b[0m       12\u001b[0m     1\u001b[0m \n",
      "\u001b[1mБулгаков\u001b[0m       5\u001b[0m      8\u001b[0m \u001b[1m\u001b[32m      19\u001b[0m     8\u001b[0m \n",
      "\u001b[1m   Бунин\u001b[0m \u001b[1m\u001b[31m     18\u001b[0m      4\u001b[0m        8\u001b[0m    10\u001b[0m \n",
      "\n",
      "\n",
      "\n",
      "              precision    recall  f1-score   support\n",
      "\n",
      "     Андреев       0.57      0.75      0.65        40\n",
      "      Бианки       0.68      0.68      0.68        40\n",
      "    Булгаков       0.44      0.47      0.46        40\n",
      "       Бунин       0.42      0.25      0.31        40\n",
      "\n",
      "    accuracy                           0.54       160\n",
      "   macro avg       0.52      0.54      0.52       160\n",
      "weighted avg       0.52      0.54      0.52       160\n",
      "\n"
     ]
    },
    {
     "name": "stderr",
     "output_type": "stream",
     "text": [
      "\n"
     ]
    }
   ],
   "source": [
    "model = ProbModel()\n",
    "\n",
    "model.train(russian_classics_train)\n",
    "model.evaluate(russian_classics_test)"
   ]
  },
  {
   "cell_type": "code",
   "execution_count": 12,
   "id": "d5d1f54b-77f3-4fed-a787-a5094e56ebe7",
   "metadata": {},
   "outputs": [],
   "source": [
    "russian_classics_train = CSVDataset('./data/russian_classics/train_23_5_600.csv')\n",
    "russian_classics_test = CSVDataset('./data/russian_classics/test_23_40_600.csv')"
   ]
  },
  {
   "cell_type": "code",
   "execution_count": 15,
   "id": "89338183-db19-4993-8f40-ad3bdf93bec7",
   "metadata": {},
   "outputs": [
    {
     "name": "stderr",
     "output_type": "stream",
     "text": [
      "100%|█████████████████████████████████████████| 115/115 [00:36<00:00,  3.17it/s]\n",
      "Accuracy: 0.10: 100%|███████████████████████| 917/917 [1:51:10<00:00,  7.27s/it]"
     ]
    },
    {
     "name": "stdout",
     "output_type": "stream",
     "text": [
      "\n",
      "\u001b[1mCorrect / Wrong:\u001b[0m 94 / 823\n",
      "\u001b[1mAccuracy:\u001b[0m 0.1025081788440567\n",
      "\n",
      "\n",
      " \u001b[1m \u001b[1m \u001b[1m \u001b[1m \u001b[1m \u001b[1m \u001b[1m \u001b[1m \u001b[1m \u001b[1m \u001b[1m \u001b[1m \u001b[1mАндреев Бианки Булгаков Бунин Гоголь Гончаров Горький Достоевский Житков Замятин Карамзин Лермонтов Носов Платонов Пришвин Пушкин Солженицын Сологуб Толстой Тургенев Чернышевский Чехов Шолохов\u001b[0m\n",
      "\n",
      "\u001b[1m     Андреев\u001b[0m       4\u001b[0m      0\u001b[0m        0\u001b[0m     2\u001b[0m      0\u001b[0m        0\u001b[0m       1\u001b[0m           0\u001b[0m      1\u001b[0m       1\u001b[0m        0\u001b[0m         0\u001b[0m     1\u001b[0m        1\u001b[0m       2\u001b[0m      0\u001b[0m          3\u001b[0m       1\u001b[0m \u001b[1m\u001b[31m     16\u001b[0m        2\u001b[0m            1\u001b[0m     2\u001b[0m       2\u001b[0m \n",
      "\u001b[1m      Бианки\u001b[0m       0\u001b[0m      8\u001b[0m        0\u001b[0m     1\u001b[0m      0\u001b[0m        0\u001b[0m       0\u001b[0m           0\u001b[0m \u001b[1m\u001b[31m    13\u001b[0m       0\u001b[0m        0\u001b[0m         0\u001b[0m     2\u001b[0m        0\u001b[0m       0\u001b[0m      2\u001b[0m          2\u001b[0m       9\u001b[0m       0\u001b[0m        1\u001b[0m            2\u001b[0m     0\u001b[0m       0\u001b[0m \n",
      "\u001b[1m    Булгаков\u001b[0m       0\u001b[0m      2\u001b[0m        1\u001b[0m     1\u001b[0m      0\u001b[0m        1\u001b[0m       2\u001b[0m           0\u001b[0m      4\u001b[0m       2\u001b[0m        1\u001b[0m         0\u001b[0m     2\u001b[0m        0\u001b[0m       1\u001b[0m      1\u001b[0m          6\u001b[0m \u001b[1m\u001b[31m      7\u001b[0m       1\u001b[0m        0\u001b[0m            5\u001b[0m     1\u001b[0m       2\u001b[0m \n",
      "\u001b[1m       Бунин\u001b[0m       1\u001b[0m      2\u001b[0m        5\u001b[0m     2\u001b[0m      0\u001b[0m        0\u001b[0m       3\u001b[0m           0\u001b[0m      0\u001b[0m       1\u001b[0m        1\u001b[0m         0\u001b[0m     1\u001b[0m        1\u001b[0m       2\u001b[0m      1\u001b[0m          3\u001b[0m       2\u001b[0m \u001b[1m\u001b[31m      7\u001b[0m        1\u001b[0m            0\u001b[0m     0\u001b[0m \u001b[1m\u001b[31m      7\u001b[0m \n",
      "\u001b[1m      Гоголь\u001b[0m       5\u001b[0m      0\u001b[0m        3\u001b[0m     1\u001b[0m      2\u001b[0m        0\u001b[0m       1\u001b[0m           0\u001b[0m      0\u001b[0m       0\u001b[0m        2\u001b[0m         1\u001b[0m     1\u001b[0m        2\u001b[0m \u001b[1m\u001b[31m      6\u001b[0m      1\u001b[0m          0\u001b[0m       2\u001b[0m \u001b[1m\u001b[31m      6\u001b[0m        1\u001b[0m            3\u001b[0m     0\u001b[0m       3\u001b[0m \n",
      "\u001b[1m    Гончаров\u001b[0m       0\u001b[0m      1\u001b[0m        0\u001b[0m     0\u001b[0m      0\u001b[0m        3\u001b[0m       1\u001b[0m           2\u001b[0m      4\u001b[0m       2\u001b[0m        0\u001b[0m         0\u001b[0m     2\u001b[0m        0\u001b[0m       2\u001b[0m      0\u001b[0m          2\u001b[0m \u001b[1m\u001b[31m     13\u001b[0m       0\u001b[0m        2\u001b[0m            1\u001b[0m     0\u001b[0m       5\u001b[0m \n",
      "\u001b[1m     Горький\u001b[0m       2\u001b[0m      0\u001b[0m        0\u001b[0m     0\u001b[0m      2\u001b[0m        1\u001b[0m \u001b[1m\u001b[32m     11\u001b[0m           0\u001b[0m      0\u001b[0m       0\u001b[0m        0\u001b[0m         1\u001b[0m     6\u001b[0m        0\u001b[0m       1\u001b[0m      0\u001b[0m          1\u001b[0m       0\u001b[0m       7\u001b[0m        2\u001b[0m            1\u001b[0m     2\u001b[0m       3\u001b[0m \n",
      "\u001b[1m Достоевский\u001b[0m       0\u001b[0m      0\u001b[0m        0\u001b[0m     3\u001b[0m      2\u001b[0m        0\u001b[0m       1\u001b[0m           0\u001b[0m      0\u001b[0m       1\u001b[0m        0\u001b[0m         0\u001b[0m     2\u001b[0m        0\u001b[0m       5\u001b[0m      0\u001b[0m          1\u001b[0m       4\u001b[0m \u001b[1m\u001b[31m      7\u001b[0m        5\u001b[0m            2\u001b[0m     3\u001b[0m       4\u001b[0m \n",
      "\u001b[1m      Житков\u001b[0m       0\u001b[0m      6\u001b[0m        0\u001b[0m     1\u001b[0m      1\u001b[0m        0\u001b[0m       0\u001b[0m           0\u001b[0m \u001b[1m\u001b[32m    11\u001b[0m       0\u001b[0m        0\u001b[0m         0\u001b[0m     1\u001b[0m        0\u001b[0m       0\u001b[0m      0\u001b[0m          0\u001b[0m \u001b[1m\u001b[31m     11\u001b[0m       0\u001b[0m        2\u001b[0m            3\u001b[0m     0\u001b[0m       4\u001b[0m \n",
      "\u001b[1m     Замятин\u001b[0m       0\u001b[0m      1\u001b[0m        4\u001b[0m \u001b[1m\u001b[31m    7\u001b[0m      1\u001b[0m        1\u001b[0m       2\u001b[0m           0\u001b[0m      2\u001b[0m       1\u001b[0m        1\u001b[0m         0\u001b[0m     1\u001b[0m        0\u001b[0m       2\u001b[0m      2\u001b[0m          5\u001b[0m       4\u001b[0m       1\u001b[0m        0\u001b[0m            0\u001b[0m     0\u001b[0m       5\u001b[0m \n",
      "\u001b[1m    Карамзин\u001b[0m       4\u001b[0m      2\u001b[0m        1\u001b[0m     3\u001b[0m      2\u001b[0m        0\u001b[0m       1\u001b[0m           1\u001b[0m      1\u001b[0m       0\u001b[0m        1\u001b[0m         0\u001b[0m     1\u001b[0m        0\u001b[0m       4\u001b[0m      0\u001b[0m          0\u001b[0m       1\u001b[0m \u001b[1m\u001b[31m      9\u001b[0m        3\u001b[0m            1\u001b[0m     0\u001b[0m       5\u001b[0m \n",
      "\u001b[1m   Лермонтов\u001b[0m       4\u001b[0m      1\u001b[0m        1\u001b[0m     0\u001b[0m      3\u001b[0m        0\u001b[0m       4\u001b[0m           0\u001b[0m      0\u001b[0m       0\u001b[0m        0\u001b[0m         2\u001b[0m     4\u001b[0m        1\u001b[0m       0\u001b[0m      0\u001b[0m          3\u001b[0m       1\u001b[0m \u001b[1m\u001b[31m      7\u001b[0m        2\u001b[0m            0\u001b[0m     1\u001b[0m       6\u001b[0m \n",
      "\u001b[1m       Носов\u001b[0m       0\u001b[0m      3\u001b[0m        0\u001b[0m     1\u001b[0m      0\u001b[0m        0\u001b[0m       1\u001b[0m           1\u001b[0m \u001b[1m\u001b[31m    12\u001b[0m       0\u001b[0m        0\u001b[0m         0\u001b[0m    11\u001b[0m        0\u001b[0m       0\u001b[0m      2\u001b[0m          1\u001b[0m       4\u001b[0m       0\u001b[0m        1\u001b[0m            1\u001b[0m     0\u001b[0m       2\u001b[0m \n",
      "\u001b[1m    Платонов\u001b[0m       3\u001b[0m      1\u001b[0m        0\u001b[0m     0\u001b[0m      1\u001b[0m        1\u001b[0m \u001b[1m\u001b[31m      6\u001b[0m           0\u001b[0m      2\u001b[0m       0\u001b[0m        0\u001b[0m         0\u001b[0m     5\u001b[0m        0\u001b[0m       4\u001b[0m      0\u001b[0m          1\u001b[0m       4\u001b[0m       5\u001b[0m        3\u001b[0m            0\u001b[0m     0\u001b[0m       4\u001b[0m \n",
      "\u001b[1m     Пришвин\u001b[0m       2\u001b[0m      2\u001b[0m        0\u001b[0m     3\u001b[0m      1\u001b[0m        0\u001b[0m       2\u001b[0m           1\u001b[0m      0\u001b[0m       2\u001b[0m        0\u001b[0m         1\u001b[0m     1\u001b[0m        1\u001b[0m       4\u001b[0m      3\u001b[0m          2\u001b[0m       2\u001b[0m       4\u001b[0m        0\u001b[0m            2\u001b[0m     2\u001b[0m \u001b[1m\u001b[31m      5\u001b[0m \n",
      "\u001b[1m      Пушкин\u001b[0m       2\u001b[0m      1\u001b[0m        2\u001b[0m     2\u001b[0m      0\u001b[0m        0\u001b[0m       2\u001b[0m           0\u001b[0m      0\u001b[0m       0\u001b[0m        2\u001b[0m         0\u001b[0m     4\u001b[0m        0\u001b[0m       4\u001b[0m      0\u001b[0m          2\u001b[0m       3\u001b[0m \u001b[1m\u001b[31m      7\u001b[0m        2\u001b[0m            0\u001b[0m     1\u001b[0m       6\u001b[0m \n",
      "\u001b[1m  Солженицын\u001b[0m       0\u001b[0m \u001b[1m\u001b[31m     7\u001b[0m        0\u001b[0m     2\u001b[0m      0\u001b[0m        0\u001b[0m       1\u001b[0m           0\u001b[0m \u001b[1m\u001b[31m     7\u001b[0m       0\u001b[0m        0\u001b[0m         0\u001b[0m     1\u001b[0m        1\u001b[0m       4\u001b[0m      1\u001b[0m          1\u001b[0m       4\u001b[0m       2\u001b[0m        1\u001b[0m            2\u001b[0m     0\u001b[0m       6\u001b[0m \n",
      "\u001b[1m     Сологуб\u001b[0m       0\u001b[0m      2\u001b[0m        0\u001b[0m     3\u001b[0m      0\u001b[0m        0\u001b[0m       1\u001b[0m           0\u001b[0m      5\u001b[0m       1\u001b[0m        0\u001b[0m         0\u001b[0m     3\u001b[0m        0\u001b[0m       5\u001b[0m      0\u001b[0m          1\u001b[0m \u001b[1m\u001b[32m     11\u001b[0m       1\u001b[0m        1\u001b[0m            4\u001b[0m     0\u001b[0m       2\u001b[0m \n",
      "\u001b[1m     Толстой\u001b[0m       1\u001b[0m      1\u001b[0m        0\u001b[0m     1\u001b[0m      1\u001b[0m        0\u001b[0m       4\u001b[0m           1\u001b[0m      0\u001b[0m       0\u001b[0m        2\u001b[0m         0\u001b[0m     1\u001b[0m        1\u001b[0m       8\u001b[0m      0\u001b[0m          0\u001b[0m       0\u001b[0m \u001b[1m\u001b[32m     13\u001b[0m        0\u001b[0m            1\u001b[0m     2\u001b[0m       3\u001b[0m \n",
      "\u001b[1m    Тургенев\u001b[0m       1\u001b[0m      3\u001b[0m        0\u001b[0m     1\u001b[0m      0\u001b[0m        2\u001b[0m       0\u001b[0m           0\u001b[0m      6\u001b[0m       0\u001b[0m        0\u001b[0m         0\u001b[0m     0\u001b[0m        1\u001b[0m       8\u001b[0m      0\u001b[0m          3\u001b[0m \u001b[1m\u001b[31m     11\u001b[0m       1\u001b[0m        0\u001b[0m            1\u001b[0m     0\u001b[0m       2\u001b[0m \n",
      "\u001b[1mЧернышевский\u001b[0m       0\u001b[0m      3\u001b[0m        2\u001b[0m     4\u001b[0m      3\u001b[0m        0\u001b[0m       1\u001b[0m           0\u001b[0m \u001b[1m\u001b[31m     5\u001b[0m       2\u001b[0m        0\u001b[0m         0\u001b[0m     1\u001b[0m        0\u001b[0m \u001b[1m\u001b[31m      5\u001b[0m      0\u001b[0m          1\u001b[0m       2\u001b[0m       2\u001b[0m        1\u001b[0m            4\u001b[0m     0\u001b[0m       1\u001b[0m \n",
      "\u001b[1m       Чехов\u001b[0m       6\u001b[0m      0\u001b[0m        0\u001b[0m     2\u001b[0m      1\u001b[0m        0\u001b[0m \u001b[1m\u001b[31m      7\u001b[0m           1\u001b[0m      0\u001b[0m       0\u001b[0m        0\u001b[0m         0\u001b[0m     4\u001b[0m        1\u001b[0m       4\u001b[0m      0\u001b[0m          0\u001b[0m       0\u001b[0m       4\u001b[0m        2\u001b[0m            1\u001b[0m     0\u001b[0m \u001b[1m\u001b[31m      7\u001b[0m \n",
      "\u001b[1m     Шолохов\u001b[0m       2\u001b[0m      1\u001b[0m        1\u001b[0m     3\u001b[0m      1\u001b[0m        0\u001b[0m       4\u001b[0m           1\u001b[0m      1\u001b[0m       0\u001b[0m        0\u001b[0m         0\u001b[0m     3\u001b[0m        0\u001b[0m       1\u001b[0m \u001b[1m\u001b[31m     5\u001b[0m          3\u001b[0m \u001b[1m\u001b[31m      5\u001b[0m       2\u001b[0m        2\u001b[0m            1\u001b[0m     0\u001b[0m       4\u001b[0m \n",
      "\n",
      "\n",
      "\n",
      "              precision    recall  f1-score   support\n",
      "\n",
      "     Андреев       0.11      0.10      0.10        40\n",
      "      Бианки       0.17      0.20      0.18        40\n",
      "    Булгаков       0.05      0.03      0.03        40\n",
      "       Бунин       0.05      0.05      0.05        40\n",
      "      Гоголь       0.10      0.05      0.07        40\n",
      "    Гончаров       0.33      0.07      0.12        40\n",
      "     Горький       0.20      0.28      0.23        40\n",
      " Достоевский       0.00      0.00      0.00        40\n",
      "      Житков       0.15      0.28      0.19        40\n",
      "     Замятин       0.08      0.03      0.04        40\n",
      "    Карамзин       0.10      0.03      0.04        40\n",
      "   Лермонтов       0.40      0.05      0.09        40\n",
      "       Носов       0.19      0.28      0.22        40\n",
      "    Платонов       0.00      0.00      0.00        40\n",
      "     Пришвин       0.06      0.10      0.07        40\n",
      "      Пушкин       0.00      0.00      0.00        40\n",
      "  Солженицын       0.02      0.03      0.02        40\n",
      "     Сологуб       0.11      0.28      0.16        40\n",
      "     Толстой       0.13      0.33      0.18        40\n",
      "    Тургенев       0.00      0.00      0.00        40\n",
      "Чернышевский       0.11      0.11      0.11        37\n",
      "       Чехов       0.00      0.00      0.00        40\n",
      "     Шолохов       0.05      0.10      0.06        40\n",
      "\n",
      "    accuracy                           0.10       917\n",
      "   macro avg       0.10      0.10      0.09       917\n",
      "weighted avg       0.10      0.10      0.09       917\n",
      "\n"
     ]
    },
    {
     "name": "stderr",
     "output_type": "stream",
     "text": [
      "\n"
     ]
    }
   ],
   "source": [
    "model = ProbModel()\n",
    "\n",
    "model.train(russian_classics_train)\n",
    "model.evaluate(russian_classics_test)"
   ]
  },
  {
   "cell_type": "code",
   "execution_count": null,
   "id": "60e5c42a-8624-4bbc-9b01-5328eaed298b",
   "metadata": {},
   "outputs": [],
   "source": []
  }
 ],
 "metadata": {
  "kernelspec": {
   "display_name": "Python 3 (ipykernel)",
   "language": "python",
   "name": "python3"
  },
  "language_info": {
   "codemirror_mode": {
    "name": "ipython",
    "version": 3
   },
   "file_extension": ".py",
   "mimetype": "text/x-python",
   "name": "python",
   "nbconvert_exporter": "python",
   "pygments_lexer": "ipython3",
   "version": "3.8.2"
  }
 },
 "nbformat": 4,
 "nbformat_minor": 5
}
