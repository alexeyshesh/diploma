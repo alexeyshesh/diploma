{
 "metadata": {
  "language_info": {
   "codemirror_mode": {
    "name": "ipython",
    "version": 3
   },
   "file_extension": ".py",
   "mimetype": "text/x-python",
   "name": "python",
   "nbconvert_exporter": "python",
   "pygments_lexer": "ipython3",
   "version": "3.7.3"
  },
  "orig_nbformat": 2,
  "kernelspec": {
   "name": "python373jvsc74a57bd0398dc28c06ad810e77de546bbdfa897a6ee0b83e59a5207339dda01a7843e01d",
   "display_name": "Python 3.7.3 64-bit ('base': conda)"
  }
 },
 "nbformat": 4,
 "nbformat_minor": 2,
 "cells": [
  {
   "source": [
    "# Метод, основанный на использовании слов закрытых грамматичесикх классов\n",
    "\n",
    "## Загрузка необходимых модулей"
   ],
   "cell_type": "markdown",
   "metadata": {}
  },
  {
   "cell_type": "code",
   "execution_count": 2,
   "metadata": {},
   "outputs": [],
   "source": [
    "import re\n",
    "import pandas as pd\n",
    "import pymorphy2\n",
    "\n",
    "morph = pymorphy2.MorphAnalyzer()"
   ]
  },
  {
   "cell_type": "code",
   "execution_count": 3,
   "metadata": {},
   "outputs": [],
   "source": [
    "with open('../data/functional_words/vvodn') as f:\n",
    "    VVODN_LIST = f.read().split()  # список вводных слов русского языка\n",
    "\n",
    "with open('../data/functional_words/souz') as f:\n",
    "    SOUZ_LIST = f.read().split() # список союзов русского языка\n",
    "\n",
    "with open('../data/functional_words/chast') as f:\n",
    "    CHAST_LIST = f.read().split()  #  список частиц русского языка"
   ]
  },
  {
   "cell_type": "code",
   "execution_count": 4,
   "metadata": {},
   "outputs": [],
   "source": [
    "def vectorize(text):\n",
    "    text = re.findall('[а-яё]+', text.lower())\n",
    "    vvodn = dict.fromkeys(VVODN_LIST, 0)\n",
    "    souz = dict.fromkeys(SOUZ_LIST, 0)\n",
    "    chast = dict.fromkeys(CHAST_LIST, 0)\n",
    "    for word in text:\n",
    "        if word in vvodn:\n",
    "            vvodn[word] += 1\n",
    "        if word in souz:\n",
    "            souz[word] += 1\n",
    "        if word in chast:\n",
    "            chast[word] += 1\n",
    "\n",
    "    res = []\n",
    "    for key in sorted(vvodn):\n",
    "        res.append(vvodn[key] / max(1, sum(vvodn.values())))\n",
    "    for key in sorted(souz):\n",
    "        res.append(souz[key] / max(1, sum(vvodn.values())))\n",
    "    for key in sorted(chast):\n",
    "        res.append(chast[key] / max(1, sum(vvodn.values())))\n",
    "\n",
    "    return res"
   ]
  },
  {
   "source": [
    "## Загрузка тренировочного и тестового датасета"
   ],
   "cell_type": "markdown",
   "metadata": {}
  },
  {
   "cell_type": "code",
   "execution_count": 49,
   "metadata": {},
   "outputs": [
    {
     "output_type": "stream",
     "name": "stdout",
     "text": [
      "(40, 4)\n(160, 4)\n"
     ]
    }
   ],
   "source": [
    "train_df = pd.read_csv('../datasets/russian_classics/train_4_10_1000.csv')\n",
    "print(train_df.shape)\n",
    "\n",
    "test_df = pd.read_csv('../datasets/russian_classics/test_4_40_600.csv')\n",
    "print(test_df.shape)"
   ]
  },
  {
   "source": [
    "## Предобработка текстов"
   ],
   "cell_type": "markdown",
   "metadata": {}
  },
  {
   "cell_type": "code",
   "execution_count": 50,
   "metadata": {},
   "outputs": [],
   "source": [
    "from tqdm import tqdm\n",
    "\n",
    "train_texts = train_df['Content']\n",
    "test_texts = test_df['Content']"
   ]
  },
  {
   "cell_type": "code",
   "execution_count": 51,
   "metadata": {},
   "outputs": [],
   "source": [
    "train_X, train_y = [vectorize(text) for text in train_texts], [int(a) for a in train_df['Author']]\n",
    "test_X, test_y = [vectorize(text) for text in test_texts], [int(a) for a in test_df['Author']]"
   ]
  },
  {
   "cell_type": "code",
   "execution_count": 75,
   "metadata": {},
   "outputs": [],
   "source": [
    "from sklearn.feature_extraction.text import TfidfVectorizer\n",
    "from sklearn.ensemble import RandomForestClassifier\n",
    "\n",
    "all_texts = list(train_texts) + list(test_texts)\n",
    "y = train_y + test_y\n",
    "\n",
    "X = [vectorize(text) for text in all_texts]\n",
    "\n",
    "X_train, X_test, y_train, y_test = X[:len(train_y)], X[len(train_y):], train_y, test_y"
   ]
  },
  {
   "source": [
    "## Построение деревьев решений"
   ],
   "cell_type": "markdown",
   "metadata": {}
  },
  {
   "cell_type": "code",
   "execution_count": null,
   "metadata": {},
   "outputs": [],
   "source": [
    "classifier = RandomForestClassifier(n_estimators=1000, random_state=0)\n",
    "classifier.fit(X_train, y_train) "
   ]
  },
  {
   "source": [
    "## Результаты"
   ],
   "cell_type": "markdown",
   "metadata": {}
  },
  {
   "cell_type": "code",
   "execution_count": 53,
   "metadata": {},
   "outputs": [],
   "source": [
    "y_pred = classifier.predict(X_test)"
   ]
  },
  {
   "cell_type": "code",
   "execution_count": 54,
   "metadata": {},
   "outputs": [
    {
     "output_type": "stream",
     "name": "stdout",
     "text": [
      "[[24  3  4  9]\n [ 4 31  0  5]\n [ 2  3 26  9]\n [13  3  9 15]]\n              precision    recall  f1-score   support\n\n           0       0.56      0.60      0.58        40\n           1       0.78      0.78      0.78        40\n           2       0.67      0.65      0.66        40\n           3       0.39      0.38      0.38        40\n\n    accuracy                           0.60       160\n   macro avg       0.60      0.60      0.60       160\nweighted avg       0.60      0.60      0.60       160\n\n0.6\n"
     ]
    }
   ],
   "source": [
    "from sklearn.metrics import classification_report, confusion_matrix, accuracy_score\n",
    "\n",
    "print(confusion_matrix(y_test,y_pred))\n",
    "print(classification_report(y_test,y_pred))\n",
    "print(accuracy_score(y_test, y_pred))"
   ]
  },
  {
   "source": [
    "## Проверка метода на других датасетах"
   ],
   "cell_type": "markdown",
   "metadata": {}
  },
  {
   "cell_type": "code",
   "execution_count": 63,
   "metadata": {},
   "outputs": [],
   "source": [
    "def test_method(train_datasets: list, test_datasets: list, predict_func):\n",
    "    for d_test in test_datasets:\n",
    "        for d_train in train_datasets:\n",
    "            print(\"Test: {}, train: {}: {}\".format(d_test, d_train, predict_func(d_test, d_train)))\n",
    "    "
   ]
  },
  {
   "cell_type": "code",
   "execution_count": 67,
   "metadata": {},
   "outputs": [],
   "source": [
    "def predict(test_dataset, train_dataset):\n",
    "    train_df = pd.read_csv(train_dataset)\n",
    "    test_df = pd.read_csv(test_dataset)\n",
    "    train_texts = train_df['Content']\n",
    "    test_texts = test_df['Content']\n",
    "    train_X, train_y = [vectorize(text) for text in train_texts], [int(a) for a in train_df['Author']]\n",
    "    test_X, test_y = [vectorize(text) for text in test_texts], [int(a) for a in test_df['Author']]\n",
    "    all_texts = list(train_texts) + list(test_texts)\n",
    "    y = train_y + test_y\n",
    "\n",
    "    X = [vectorize(text) for text in all_texts]\n",
    "    X_train, X_test, y_train, y_test = X[:len(train_y)], X[len(train_y):], train_y, test_y\n",
    "\n",
    "    classifier = RandomForestClassifier(n_estimators=1000, random_state=0)\n",
    "    classifier.fit(X_train, y_train) \n",
    "\n",
    "    y_pred = classifier.predict(X_test)\n",
    "    return accuracy_score(y_test, y_pred)"
   ]
  },
  {
   "cell_type": "code",
   "execution_count": 68,
   "metadata": {},
   "outputs": [],
   "source": [
    "train_datasets = [\n",
    "    '../datasets/russian_classics/train_4_5_600.csv',\n",
    "    '../datasets/russian_classics/train_4_10_1000.csv'\n",
    "]\n",
    "\n",
    "test_datasets = [\n",
    "    '../datasets/russian_classics/test_4_40_600.csv'\n",
    "]"
   ]
  },
  {
   "cell_type": "code",
   "execution_count": 69,
   "metadata": {},
   "outputs": [
    {
     "output_type": "stream",
     "name": "stdout",
     "text": [
      "Test: ../datasets/russian_classics/test_4_40_600.csv, train: ../datasets/russian_classics/train_4_5_600.csv: 0.49375\n",
      "Test: ../datasets/russian_classics/test_4_40_600.csv, train: ../datasets/russian_classics/train_4_10_1000.csv: 0.6\n"
     ]
    }
   ],
   "source": [
    "test_method(train_datasets, test_datasets, predict)"
   ]
  },
  {
   "cell_type": "code",
   "execution_count": 70,
   "metadata": {},
   "outputs": [],
   "source": [
    "train_datasets = [\n",
    "    '../datasets/russian_classics/train_23_5_600.csv',\n",
    "    '../datasets/russian_classics/train_23_10_1000.csv'\n",
    "]\n",
    "\n",
    "test_datasets = [\n",
    "    '../datasets/russian_classics/test_23_40_600.csv'\n",
    "]"
   ]
  },
  {
   "cell_type": "code",
   "execution_count": 71,
   "metadata": {},
   "outputs": [
    {
     "output_type": "stream",
     "name": "stdout",
     "text": [
      "Test: ../datasets/russian_classics/test_23_40_600.csv, train: ../datasets/russian_classics/train_23_5_600.csv: 0.18538713195201745\n",
      "Test: ../datasets/russian_classics/test_23_40_600.csv, train: ../datasets/russian_classics/train_23_10_1000.csv: 0.29443838604143946\n"
     ]
    }
   ],
   "source": [
    "test_method(train_datasets, test_datasets, predict)"
   ]
  },
  {
   "cell_type": "code",
   "execution_count": 72,
   "metadata": {},
   "outputs": [],
   "source": [
    "train_datasets = [\n",
    "    '../datasets/russian_classics/train_4_5_600.csv',\n",
    "    '../datasets/russian_classics/train_4_10_1000.csv'\n",
    "]\n",
    "\n",
    "test_datasets = [\n",
    "    '../datasets/russian_classics/test_4_40_1000.csv'\n",
    "]"
   ]
  },
  {
   "cell_type": "code",
   "execution_count": 73,
   "metadata": {},
   "outputs": [
    {
     "output_type": "stream",
     "name": "stdout",
     "text": [
      "Test: ../datasets/russian_classics/test_4_40_1000.csv, train: ../datasets/russian_classics/train_4_5_600.csv: 0.49375\n",
      "Test: ../datasets/russian_classics/test_4_40_1000.csv, train: ../datasets/russian_classics/train_4_10_1000.csv: 0.6\n"
     ]
    }
   ],
   "source": [
    "test_method(train_datasets, test_datasets, predict)"
   ]
  },
  {
   "cell_type": "code",
   "execution_count": 74,
   "metadata": {},
   "outputs": [
    {
     "output_type": "stream",
     "name": "stdout",
     "text": [
      "Test: ../datasets/proza_ru/proza_test.csv, train: ../datasets/proza_ru/proza_train.csv: 0.8181818181818182\n"
     ]
    }
   ],
   "source": [
    "train_datasets = [\n",
    "    '../datasets/proza_ru/proza_train.csv',\n",
    "]\n",
    "\n",
    "test_datasets = [\n",
    "    '../datasets/proza_ru/proza_test.csv'\n",
    "]\n",
    "\n",
    "test_method(train_datasets, test_datasets, predict)"
   ]
  },
  {
   "cell_type": "code",
   "execution_count": null,
   "metadata": {},
   "outputs": [],
   "source": []
  }
 ]
}